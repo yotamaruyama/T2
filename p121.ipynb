{
 "cells": [
  {
   "cell_type": "code",
   "execution_count": 3,
   "metadata": {},
   "outputs": [],
   "source": [
    "import cv2\n",
    "import numpy as np\n",
    "file_src = 'jingu2.png'"
   ]
  },
  {
   "cell_type": "code",
   "execution_count": 5,
   "metadata": {},
   "outputs": [],
   "source": [
    "img_src = cv2.imread(file_src, 1) #入力画像の読み込み\n",
    "\n",
    "img_tmp = cv2.Laplacian(img_src, cv2.CV_32F, 3)\n",
    "img_dst = cv2.convertScaleAbs(img_tmp)\n",
    "\n",
    "#p122上\n",
    "#img_dst = cv2.Canny(img_src, 100, 200)\n",
    "#img_dst = 255 - img_dst\n",
    "\n",
    "cv2.imshow(\"src Show IutputImage\", img_src)\n",
    "cv2.imshow(\"dst Show IutputImage\", img_dst)\n",
    "cv2.waitKey(0)\n",
    "cv2.destroyAllWindows()"
   ]
  },
  {
   "cell_type": "code",
   "execution_count": null,
   "metadata": {},
   "outputs": [],
   "source": []
  }
 ],
 "metadata": {
  "kernelspec": {
   "display_name": "Python 3",
   "language": "python",
   "name": "python3"
  },
  "language_info": {
   "codemirror_mode": {
    "name": "ipython",
    "version": 3
   },
   "file_extension": ".py",
   "mimetype": "text/x-python",
   "name": "python",
   "nbconvert_exporter": "python",
   "pygments_lexer": "ipython3",
   "version": "3.7.4"
  }
 },
 "nbformat": 4,
 "nbformat_minor": 2
}
