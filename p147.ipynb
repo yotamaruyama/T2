{
 "cells": [
  {
   "cell_type": "code",
   "execution_count": 1,
   "metadata": {},
   "outputs": [],
   "source": [
    "import cv2\n",
    "import numpy as np\n",
    "\n",
    "file_src = 'daruma.png'\n",
    "thresh = 100"
   ]
  },
  {
   "cell_type": "code",
   "execution_count": 2,
   "metadata": {},
   "outputs": [
    {
     "name": "stdout",
     "output_type": "stream",
     "text": [
      "面積 99320.5\n",
      "周囲長 1300.579857468605\n",
      "円形度 959.6475029474216\n"
     ]
    }
   ],
   "source": [
    "img_src = cv2.imread(file_src, 0) #入力画像の読み込み(カラー:1/グレースケール:0)\n",
    "\n",
    "ret,img_dst = cv2.threshold(img_src, thresh, 255, cv2.THRESH_BINARY)#2値化処理\n",
    "\n",
    "cv2.imshow(\"dst Show threshold Image\", img_dst)\n",
    "\n",
    "contours = cv2.findContours(img_dst, cv2.RETR_EXTERNAL, cv2.CHAIN_APPROX_SIMPLE)[0]\n",
    "area = cv2.contourArea(contours[0])\n",
    "perimeter = cv2.arcLength(np.array(contours[0]), True)\n",
    "roundness = 4 * np.pi * area / perimeter \n",
    "\n",
    "print(\"面積\", area)\n",
    "print(\"周囲長\", perimeter)\n",
    "print(\"円形度\", roundness)\n",
    "\n",
    "cnt = contours[0]\n",
    "#最小外接円を描く\n",
    "(x, y), radius = cv2.minEnclosingCircle(cnt)\n",
    "center = (int(x), int(y))\n",
    "radius = int(radius)\n",
    "\n",
    "img_circle = cv2.circle(img_src, center,radius,(0,255,0),2)\n",
    "\n",
    "cv2.imshow(\"dst show contours Image\", img_circle)\n",
    "\n",
    "cv2.waitKey(0)\n",
    "cv2.destroyAllWindows()"
   ]
  },
  {
   "cell_type": "raw",
   "metadata": {},
   "source": []
  },
  {
   "cell_type": "code",
   "execution_count": null,
   "metadata": {},
   "outputs": [],
   "source": []
  }
 ],
 "metadata": {
  "kernelspec": {
   "display_name": "Python 3",
   "language": "python",
   "name": "python3"
  },
  "language_info": {
   "codemirror_mode": {
    "name": "ipython",
    "version": 3
   },
   "file_extension": ".py",
   "mimetype": "text/x-python",
   "name": "python",
   "nbconvert_exporter": "python",
   "pygments_lexer": "ipython3",
   "version": "3.7.4"
  }
 },
 "nbformat": 4,
 "nbformat_minor": 2
}
