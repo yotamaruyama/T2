{
 "cells": [
  {
   "cell_type": "code",
   "execution_count": null,
   "metadata": {},
   "outputs": [],
   "source": [
    "import cv2\n",
    "import numpy as np\n",
    "\n",
    "def remove_background(image_path):\n",
    "    # 画像の読み込み\n",
    "    image = cv2.imread(image_path)\n",
    "\n",
    "    # アルファチャンネルを持つRGBA画像に変換\n",
    "    rgba = cv2.cvtColor(image, cv2.COLOR_BGR2RGBA)\n",
    "\n",
    "    # 画像のサイズを取得\n",
    "    height, width = rgba.shape[:2]\n",
    "\n",
    "    # 透明な背景のマスクを作成\n",
    "    mask = np.zeros((height, width), dtype=np.uint8)\n",
    "\n",
    "    # 背景の色を定義（黒色）\n",
    "    background_color = (0, 0, 0)\n",
    "\n",
    "    # 画像から背景を検出し、透明な背景のマスクを作成\n",
    "    _, thresh = cv2.threshold(rgba[:, :, 3], 1, 255, cv2.THRESH_BINARY)\n",
    "    contours, _ = cv2.findContours(thresh, cv2.RETR_EXTERNAL, cv2.CHAIN_APPROX_SIMPLE)\n",
    "    cv2.drawContours(mask, contours, -1, (255), thickness=cv2.FILLED)\n",
    "\n",
    "    # 背景を透明にする\n",
    "    rgba[:, :, 3] = cv2.bitwise_and(rgba[:, :, 3], mask)\n",
    "\n",
    "    # 透過処理後の画像を表示\n",
    "    cv2.imshow(\"Transparent Image\", rgba)\n",
    "    cv2.waitKey(0)\n",
    "    cv2.destroyAllWindows()\n",
    "\n",
    "    # 透過処理後の画像を保存\n",
    "    output_image = cv2.cvtColor(rgba, cv2.COLOR_RGBA2BGRA)\n",
    "    cv2.imwrite(\"transparent_image.png\", output_image)\n",
    "\n",
    "# 画像のパスを指定して背景を透過させる\n",
    "remove_background(\"image3.jpeg\")"
   ]
  },
  {
   "cell_type": "code",
   "execution_count": null,
   "metadata": {},
   "outputs": [],
   "source": []
  },
  {
   "cell_type": "code",
   "execution_count": null,
   "metadata": {},
   "outputs": [],
   "source": []
  }
 ],
 "metadata": {
  "kernelspec": {
   "display_name": "Python 3",
   "language": "python",
   "name": "python3"
  },
  "language_info": {
   "codemirror_mode": {
    "name": "ipython",
    "version": 3
   },
   "file_extension": ".py",
   "mimetype": "text/x-python",
   "name": "python",
   "nbconvert_exporter": "python",
   "pygments_lexer": "ipython3",
   "version": "3.7.4"
  }
 },
 "nbformat": 4,
 "nbformat_minor": 2
}
