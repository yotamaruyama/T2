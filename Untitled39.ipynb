{
 "cells": [
  {
   "cell_type": "code",
   "execution_count": 19,
   "metadata": {},
   "outputs": [],
   "source": [
    "import cv2\n",
    "\n",
    "# 画像の読み込み\n",
    "image = cv2.imread(\"kuro2.jpeg\")\n",
    "\n",
    "# 画像をグレースケールに変換\n",
    "gray = cv2.cvtColor(image, cv2.COLOR_BGR2GRAY)\n",
    "\n",
    "# 2値化処理（黒色の点を抽出するため）\n",
    "_, binary = cv2.threshold(gray, 1, 255, cv2.THRESH_BINARY)\n",
    "\n",
    "# 輪郭を検出\n",
    "contours, _ = cv2.findContours(binary, cv2.RETR_EXTERNAL, cv2.CHAIN_APPROX_SIMPLE)\n",
    "\n",
    "# 各輪郭を四角で囲む\n",
    "for contour in contours:\n",
    "    # 輪郭の外接矩形を取得\n",
    "    x, y, w, h = cv2.boundingRect(contour)\n",
    "    \n",
    "    # 黒色の点の場合、四角で囲む\n",
    "    if all(image[y, x] == [0, 0, 0]):\n",
    "        cv2.rectangle(image, (x, y), (x + w, y + h), (0, 255, 0), 2)\n",
    "\n",
    "# 結果の表示\n",
    "cv2.imshow(\"Result\", image)\n",
    "cv2.waitKey(0)\n",
    "cv2.destroyAllWindows()\n"
   ]
  },
  {
   "cell_type": "code",
   "execution_count": null,
   "metadata": {},
   "outputs": [],
   "source": []
  }
 ],
 "metadata": {
  "kernelspec": {
   "display_name": "Python 3",
   "language": "python",
   "name": "python3"
  },
  "language_info": {
   "codemirror_mode": {
    "name": "ipython",
    "version": 3
   },
   "file_extension": ".py",
   "mimetype": "text/x-python",
   "name": "python",
   "nbconvert_exporter": "python",
   "pygments_lexer": "ipython3",
   "version": "3.7.4"
  }
 },
 "nbformat": 4,
 "nbformat_minor": 2
}
