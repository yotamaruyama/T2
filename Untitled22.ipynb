{
 "cells": [
  {
   "cell_type": "code",
   "execution_count": 20,
   "metadata": {},
   "outputs": [],
   "source": [
    "import cv2\n",
    "import numpy as np\n",
    "file_src = 'blob.png'"
   ]
  },
  {
   "cell_type": "code",
   "execution_count": 21,
   "metadata": {},
   "outputs": [
    {
     "name": "stdout",
     "output_type": "stream",
     "text": [
      "面積 26750.0\n",
      "周囲長 710.6416975259781\n",
      "円形度 0.6656290649867681\n"
     ]
    }
   ],
   "source": [
    "img_src = cv2.imread(file_src, 0) #入力画像の読み込み(カラー:1/グレースケール:0)\n",
    "\n",
    "contours = cv2.findContours(img_src, cv2.RETR_EXTERNAL, cv2.CHAIN_APPROX_SIMPLE)[0]\n",
    "area = cv2.contourArea(contours[0])\n",
    "perimeter = cv2.arcLength(np.array(contours[0]),True)\n",
    "roundness = 4 * np.pi * area / perimeter / perimeter\n",
    "\n",
    "print(\"面積\",area)\n",
    "print(\"周囲長\",perimeter)\n",
    "print(\"円形度\",roundness)\n",
    "\n",
    "cv2.imshow(\"src Show Input Image\", img_src)\n",
    "cv2.imshow(\"dst Show Output Image\", img_dst)\n",
    "cv2.waitKey(0)\n",
    "cv2.destroyAllWindows()"
   ]
  },
  {
   "cell_type": "code",
   "execution_count": null,
   "metadata": {},
   "outputs": [],
   "source": []
  },
  {
   "cell_type": "code",
   "execution_count": null,
   "metadata": {},
   "outputs": [],
   "source": []
  }
 ],
 "metadata": {
  "kernelspec": {
   "display_name": "Python 3",
   "language": "python",
   "name": "python3"
  },
  "language_info": {
   "codemirror_mode": {
    "name": "ipython",
    "version": 3
   },
   "file_extension": ".py",
   "mimetype": "text/x-python",
   "name": "python",
   "nbconvert_exporter": "python",
   "pygments_lexer": "ipython3",
   "version": "3.7.4"
  }
 },
 "nbformat": 4,
 "nbformat_minor": 2
}
