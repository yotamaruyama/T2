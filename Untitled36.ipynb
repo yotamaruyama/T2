{
 "cells": [
  {
   "cell_type": "code",
   "execution_count": 1,
   "metadata": {},
   "outputs": [
    {
     "name": "stdout",
     "output_type": "stream",
     "text": [
      "月\n",
      "1      5.996481\n",
      "2      6.598714\n",
      "3     10.017009\n",
      "4     14.481515\n",
      "5     19.607918\n",
      "6     22.544848\n",
      "7     26.422287\n",
      "8     27.887097\n",
      "9     24.360303\n",
      "10    19.155132\n",
      "11    13.484545\n",
      "12     8.653079\n",
      "Name: 気温, dtype: float64\n"
     ]
    },
    {
     "name": "stderr",
     "output_type": "stream",
     "text": [
      "C:\\ProgramData\\Anaconda3\\lib\\site-packages\\matplotlib\\backends\\backend_agg.py:211: RuntimeWarning: Glyph 26376 missing from current font.\n",
      "  font.set_text(s, 0.0, flags=flags)\n",
      "C:\\ProgramData\\Anaconda3\\lib\\site-packages\\matplotlib\\backends\\backend_agg.py:176: RuntimeWarning: Glyph 26376 missing from current font.\n",
      "  font.load_char(ord(s), flags=flags)\n"
     ]
    },
    {
     "data": {
      "text/plain": [
       "<Figure size 640x480 with 1 Axes>"
      ]
     },
     "metadata": {},
     "output_type": "display_data"
    }
   ],
   "source": [
    "import matplotlib.pyplot as plt \n",
    "import pandas as pd\n",
    "\n",
    "# CSV を読み込む---( ※ 1)\n",
    "\n",
    "df = pd.read_csv (\"kion10y.csv\", encoding=\"utf-8\")\n",
    "\n",
    "# 月ごとに平均を求める---(※ 2)\n",
    "\n",
    "g = df.groupby(['月'])[\"気温\"]\n",
    "\n",
    "gg = g.sum () / g.count()\n",
    "\n",
    "# 結果を出力---(※ 3)\n",
    "\n",
    "print(gg)\n",
    "gg.plot()\n",
    "plt.savefig(\"tenki-heikin-tuki.png\")\n",
    "plt.show()"
   ]
  },
  {
   "cell_type": "code",
   "execution_count": null,
   "metadata": {},
   "outputs": [],
   "source": []
  }
 ],
 "metadata": {
  "kernelspec": {
   "display_name": "Python 3",
   "language": "python",
   "name": "python3"
  },
  "language_info": {
   "codemirror_mode": {
    "name": "ipython",
    "version": 3
   },
   "file_extension": ".py",
   "mimetype": "text/x-python",
   "name": "python",
   "nbconvert_exporter": "python",
   "pygments_lexer": "ipython3",
   "version": "3.7.4"
  }
 },
 "nbformat": 4,
 "nbformat_minor": 2
}
