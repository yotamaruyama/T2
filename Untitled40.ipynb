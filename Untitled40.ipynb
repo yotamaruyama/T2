{
 "cells": [
  {
   "cell_type": "code",
   "execution_count": 12,
   "metadata": {},
   "outputs": [],
   "source": [
    "import cv2\n",
    "import numpy as np\n",
    "\n",
    "# 画像の読み込み\n",
    "image = cv2.imread(\"kuro.jpeg\")\n",
    "\n",
    "# HSV色空間に変換\n",
    "hsv = cv2.cvtColor(image, cv2.COLOR_BGR2HSV)\n",
    "\n",
    "# 黒色の範囲を定義\n",
    "lower_black = np.array([0, 0, 0])\n",
    "upper_black = np.array([180, 255, 40])\n",
    "\n",
    "# 黒色領域のマスクを作成\n",
    "mask = cv2.inRange(hsv, lower_black, upper_black)\n",
    "\n",
    "# 輪郭を検出\n",
    "contours, _ = cv2.findContours(mask, cv2.RETR_EXTERNAL, cv2.CHAIN_APPROX_SIMPLE)\n",
    "\n",
    "# 各輪郭を四角で囲む\n",
    "count = 0  # 黒色の点の個数\n",
    "for contour in contours:\n",
    "    # 輪郭の外接矩形を取得\n",
    "    x, y, w, h = cv2.boundingRect(contour)\n",
    "    cv2.rectangle(image, (x, y), (x + w, y + h), (0, 255, 0), 2)\n",
    "    count += 1\n",
    "\n",
    "# 個数を表示\n",
    "cv2.putText(image, \"Count: \" + str(count), (10, 30), cv2.FONT_HERSHEY_SIMPLEX, 1, (0, 0, 255), 2)\n",
    "\n",
    "# 結果の表示\n",
    "cv2.imshow(\"Result\", image)\n",
    "cv2.waitKey(0)\n",
    "cv2.destroyAllWindows()"
   ]
  },
  {
   "cell_type": "code",
   "execution_count": null,
   "metadata": {},
   "outputs": [],
   "source": []
  },
  {
   "cell_type": "code",
   "execution_count": null,
   "metadata": {},
   "outputs": [],
   "source": []
  }
 ],
 "metadata": {
  "kernelspec": {
   "display_name": "Python 3",
   "language": "python",
   "name": "python3"
  },
  "language_info": {
   "codemirror_mode": {
    "name": "ipython",
    "version": 3
   },
   "file_extension": ".py",
   "mimetype": "text/x-python",
   "name": "python",
   "nbconvert_exporter": "python",
   "pygments_lexer": "ipython3",
   "version": "3.7.4"
  }
 },
 "nbformat": 4,
 "nbformat_minor": 2
}
