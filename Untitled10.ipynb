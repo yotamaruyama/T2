{
 "cells": [
  {
   "cell_type": "code",
   "execution_count": 1,
   "metadata": {},
   "outputs": [],
   "source": [
    "import cv2\n",
    "import numpy as np\n",
    "file_src = 'jingu_s.png'\n",
    "min = 150\n",
    "max = 200"
   ]
  },
  {
   "cell_type": "code",
   "execution_count": null,
   "metadata": {},
   "outputs": [],
   "source": [
    "img_src = cv2.imread(file_src, 1) #入力画像の読み込み\n",
    "img_dst = cv2.imread(file_src, 1)\n",
    "\n",
    "table = np.arange(256, dtype = np.uint8)\n",
    "for i in range(0, min):\n",
    "    table[i] = 0\n",
    "for i in range(min, max):\n",
    "    table[i] = 255 * (i - min) / (max - min)\n",
    "for i in range(max, 255):\n",
    "    table[i] = 255\n",
    "\n",
    "img_dst = cv2.LUT(img_src, table)\n",
    "\n",
    "cv2.imshow(\"src Show IutputImage\", img_src)\n",
    "cv2.imshow(\"dst Show IutputImage\", img_dst)\n",
    "cv2.waitKey(0)\n",
    "cv2.destroyAllWindows()"
   ]
  }
 ],
 "metadata": {
  "kernelspec": {
   "display_name": "Python 3",
   "language": "python",
   "name": "python3"
  },
  "language_info": {
   "codemirror_mode": {
    "name": "ipython",
    "version": 3
   },
   "file_extension": ".py",
   "mimetype": "text/x-python",
   "name": "python",
   "nbconvert_exporter": "python",
   "pygments_lexer": "ipython3",
   "version": "3.7.4"
  }
 },
 "nbformat": 4,
 "nbformat_minor": 2
}
