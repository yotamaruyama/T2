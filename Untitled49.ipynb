{
 "cells": [
  {
   "cell_type": "code",
   "execution_count": 7,
   "metadata": {},
   "outputs": [
    {
     "name": "stdout",
     "output_type": "stream",
     "text": [
      "2\n"
     ]
    }
   ],
   "source": [
    "from pathlib import Path\n",
    "import cv2\n",
    "import numpy as np\n",
    "\n",
    "img = cv2.imread(\"wata.jpg\")\n",
    "\n",
    "rows = 1  # 行数\n",
    "cols = 2  # 列数\n",
    "\n",
    "chunks = []\n",
    "for row_img in np.array_split(img, rows, axis=0):\n",
    "    for chunk in np.array_split(row_img, cols, axis=1):\n",
    "        chunks.append(chunk)\n",
    "print(len(chunks))\n",
    "\n",
    "# 保存する。\n",
    "output_dir = Path(\"output\")\n",
    "output_dir.mkdir(exist_ok=True)\n",
    "for i, chunk in enumerate(chunks):\n",
    "    save_path = output_dir / f\"chunk_{i:02d}.png\"\n",
    "    cv2.imwrite(str(save_path), chunk)\n",
    "\n",
    "# 保存した画像を表示する。\n",
    "for i, chunk in enumerate(chunks):\n",
    "    cv2.imshow(f\"Chunk {i}\", chunk)\n",
    "    cv2.waitKey(0)\n",
    "\n",
    "cv2.destroyAllWindows()"
   ]
  },
  {
   "cell_type": "code",
   "execution_count": null,
   "metadata": {},
   "outputs": [],
   "source": []
  },
  {
   "cell_type": "code",
   "execution_count": null,
   "metadata": {},
   "outputs": [],
   "source": []
  }
 ],
 "metadata": {
  "kernelspec": {
   "display_name": "Python 3",
   "language": "python",
   "name": "python3"
  },
  "language_info": {
   "codemirror_mode": {
    "name": "ipython",
    "version": 3
   },
   "file_extension": ".py",
   "mimetype": "text/x-python",
   "name": "python",
   "nbconvert_exporter": "python",
   "pygments_lexer": "ipython3",
   "version": "3.7.4"
  }
 },
 "nbformat": 4,
 "nbformat_minor": 2
}
