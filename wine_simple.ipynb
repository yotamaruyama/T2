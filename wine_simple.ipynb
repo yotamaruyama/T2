{
 "cells": [
  {
   "cell_type": "code",
   "execution_count": 14,
   "metadata": {},
   "outputs": [
    {
     "name": "stdout",
     "output_type": "stream",
     "text": [
      "              precision    recall  f1-score   support\n",
      "\n",
      "           3       0.00      0.00      0.00        10\n",
      "           4       0.67      0.29      0.40        28\n",
      "           5       0.66      0.72      0.69       286\n",
      "           6       0.66      0.75      0.70       444\n",
      "           7       0.65      0.54      0.59       170\n",
      "           8       0.88      0.35      0.50        40\n",
      "           9       0.00      0.00      0.00         2\n",
      "\n",
      "    accuracy                           0.66       980\n",
      "   macro avg       0.50      0.38      0.41       980\n",
      "weighted avg       0.66      0.66      0.65       980\n",
      "\n",
      "正解率= 0.6632653061224489\n"
     ]
    },
    {
     "name": "stderr",
     "output_type": "stream",
     "text": [
      "C:\\ProgramData\\Anaconda3\\lib\\site-packages\\sklearn\\ensemble\\forest.py:245: FutureWarning: The default value of n_estimators will change from 10 in version 0.20 to 100 in 0.22.\n",
      "  \"10 in version 0.20 to 100 in 0.22.\", FutureWarning)\n",
      "C:\\ProgramData\\Anaconda3\\lib\\site-packages\\sklearn\\metrics\\classification.py:1437: UndefinedMetricWarning: Precision and F-score are ill-defined and being set to 0.0 in labels with no predicted samples.\n",
      "  'precision', 'predicted', average, warn_for)\n"
     ]
    }
   ],
   "source": [
    "import pandas as pd \n",
    "from sklearn.model_selection import train_test_split \n",
    "from sklearn.ensemble import RandomForestClassifier \n",
    "from sklearn.metrics import accuracy_score \n",
    "from sklearn.metrics import classification_report\n",
    "\n",
    "# データを読み込む\n",
    "\n",
    "wine = pd.read_csv (\"winequality-white.csv\", sep=\";\", encoding=\"utf-8\")\n",
    "\n",
    "# データをラベルとデータに分離 ---( ※ 1)\n",
    "\n",
    "y = wine[\"quality\"]\n",
    "\n",
    "x = wine.drop(\"quality\", axis=1)\n",
    "\n",
    "# 学習用とテスト用に分割する ---( ※ 2)\n",
    "\n",
    "x_train, x_test, y_train, y_test = train_test_split(\n",
    "\n",
    "x,y,test_size=0.2)\n",
    "\n",
    "# 学習する - - - ( ※ 3)\n",
    "\n",
    "model = RandomForestClassifier()\n",
    "\n",
    "model.fit(x_train, y_train)\n",
    "\n",
    "# 評価する - - - ( ※ 4)\n",
    "\n",
    "y_pred = model.predict(x_test)\n",
    "print(classification_report(y_test, y_pred))\n",
    "print(\"正解率=\", accuracy_score(y_test,y_pred))"
   ]
  },
  {
   "cell_type": "code",
   "execution_count": null,
   "metadata": {},
   "outputs": [],
   "source": []
  }
 ],
 "metadata": {
  "kernelspec": {
   "display_name": "Python 3",
   "language": "python",
   "name": "python3"
  },
  "language_info": {
   "codemirror_mode": {
    "name": "ipython",
    "version": 3
   },
   "file_extension": ".py",
   "mimetype": "text/x-python",
   "name": "python",
   "nbconvert_exporter": "python",
   "pygments_lexer": "ipython3",
   "version": "3.7.4"
  }
 },
 "nbformat": 4,
 "nbformat_minor": 2
}
