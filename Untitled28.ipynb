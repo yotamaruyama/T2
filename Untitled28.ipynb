{
 "cells": [
  {
   "cell_type": "code",
   "execution_count": 41,
   "metadata": {},
   "outputs": [
    {
     "name": "stdout",
     "output_type": "stream",
     "text": [
      "     SepalLength  SepalWidth  PetalLength  PetalWidth\n",
      "68           6.2         2.2          4.5         1.5\n",
      "9            4.9         3.1          1.5         0.1\n",
      "80           5.5         2.4          3.8         1.1\n",
      "118          7.7         2.6          6.9         2.3\n",
      "35           5.0         3.2          1.2         0.2\n",
      "..           ...         ...          ...         ...\n",
      "62           6.0         2.2          4.0         1.0\n",
      "113          5.7         2.5          5.0         2.0\n",
      "57           4.9         2.4          3.3         1.0\n",
      "33           5.5         4.2          1.4         0.2\n",
      "2            4.7         3.2          1.3         0.2\n",
      "\n",
      "[120 rows x 4 columns] 68     Iris-versicolor\n",
      "9          Iris-setosa\n",
      "80     Iris-versicolor\n",
      "118     Iris-virginica\n",
      "35         Iris-setosa\n",
      "            ...       \n",
      "62     Iris-versicolor\n",
      "113     Iris-virginica\n",
      "57     Iris-versicolor\n",
      "33         Iris-setosa\n",
      "2          Iris-setosa\n",
      "Name: Name, Length: 120, dtype: object\n",
      "正解率＝　 0.9333333333333333\n"
     ]
    },
    {
     "name": "stderr",
     "output_type": "stream",
     "text": [
      "C:\\ProgramData\\Anaconda3\\lib\\site-packages\\sklearn\\svm\\base.py:193: FutureWarning: The default value of gamma will change from 'auto' to 'scale' in version 0.22 to account better for unscaled features. Set gamma explicitly to 'auto' or 'scale' to avoid this warning.\n",
      "  \"avoid this warning.\", FutureWarning)\n"
     ]
    }
   ],
   "source": [
    "import pandas as pd \n",
    "from sklearn. model_selection import train_test_split\n",
    "from sklearn.svm import SVC\n",
    "from sklearn.metrics import accuracy_score\n",
    "\n",
    "\n",
    "iris_data = pd.read_csv(\"iris.csv\", encoding=\"utf-8\")\n",
    "\n",
    "y = iris_data.loc[:, \"Name\"]\n",
    "x = iris_data.loc[:,[\"SepalLength\", \"SepalWidth\", \"PetalLength\", \"PetalWidth\"]]\n",
    "\n",
    "\n",
    "x_train, x_test, y_train, y_test = train_test_split(x, y, test_size = 0.2,\n",
    "\n",
    "train_size = 0.8, shuffle = True)\n",
    "\n",
    "\n",
    "clf = SVC()\n",
    "clf.fit(x_train, y_train)\n",
    "\n",
    "print(x_train,y_train)\n",
    "\n",
    "y_pred = clf.predict (x_test)\n",
    "\n",
    "print (\"正解率＝　\",accuracy_score(y_test, y_pred))"
   ]
  },
  {
   "cell_type": "code",
   "execution_count": null,
   "metadata": {},
   "outputs": [],
   "source": []
  }
 ],
 "metadata": {
  "kernelspec": {
   "display_name": "Python 3",
   "language": "python",
   "name": "python3"
  },
  "language_info": {
   "codemirror_mode": {
    "name": "ipython",
    "version": 3
   },
   "file_extension": ".py",
   "mimetype": "text/x-python",
   "name": "python",
   "nbconvert_exporter": "python",
   "pygments_lexer": "ipython3",
   "version": "3.7.4"
  }
 },
 "nbformat": 4,
 "nbformat_minor": 2
}
