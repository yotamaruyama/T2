{
 "cells": [
  {
   "cell_type": "code",
   "execution_count": 8,
   "metadata": {},
   "outputs": [],
   "source": [
    "import cv2\n",
    "import numpy as np\n",
    "\n",
    "def divide_image(image, grid_size):\n",
    "    height, width = image.shape[:2]\n",
    "    grid_width = int(width / grid_size)\n",
    "    grid_height = int(height / grid_size)\n",
    "\n",
    "    grid_image = np.zeros((grid_height, grid_width, 3), dtype=np.uint8)\n",
    "\n",
    "    for i in range(grid_height):\n",
    "        for j in range(grid_width):\n",
    "            grid = image[i * grid_size: (i + 1) * grid_size, j * grid_size: (j + 1) * grid_size]\n",
    "            if np.mean(grid) < 5:  # 5未満の平均輝度を持つ場合\n",
    "                grid_image[i, j] = [1, 2, 0]  # 1列目に1を、2列目に2を表示\n",
    "\n",
    "    return grid_image\n",
    "\n",
    "image_path = \"wata.jpg\"\n",
    "img = cv2.imread(image_path)\n",
    "\n",
    "grid_size = 5  # グリッドのサイズ（mm単位）\n",
    "\n",
    "grid_image = divide_image(img, grid_size)\n",
    "\n",
    "cv2.imshow(\"Grid Image\", grid_image)\n",
    "cv2.waitKey(0)\n",
    "cv2.destroyAllWindows()\n"
   ]
  },
  {
   "cell_type": "code",
   "execution_count": null,
   "metadata": {},
   "outputs": [],
   "source": []
  }
 ],
 "metadata": {
  "kernelspec": {
   "display_name": "Python 3",
   "language": "python",
   "name": "python3"
  },
  "language_info": {
   "codemirror_mode": {
    "name": "ipython",
    "version": 3
   },
   "file_extension": ".py",
   "mimetype": "text/x-python",
   "name": "python",
   "nbconvert_exporter": "python",
   "pygments_lexer": "ipython3",
   "version": "3.7.4"
  }
 },
 "nbformat": 4,
 "nbformat_minor": 2
}
