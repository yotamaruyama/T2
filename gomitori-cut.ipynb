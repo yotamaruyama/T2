{
 "cells": [
  {
   "cell_type": "code",
   "execution_count": 6,
   "metadata": {},
   "outputs": [],
   "source": [
    "import matplotlib.pyplot as plt\n",
    "import cv2\n",
    "\n",
    "# 画像を読み込む\n",
    "img = cv2.imread(\"test.jpg\")\n",
    "\n",
    "\n",
    "# 画像の一部を切り取る\n",
    "im2 = img[0:3000, 250:2700]\n",
    "# 画像をリサイズ\n",
    "#im2 = cv2.resize(im2, (400, 400))\n",
    "# リサイズした画像を保存\n",
    "cv2.imwrite(\"cut-resize.png\", im2)\n",
    "\n",
    "# 画像のサイズを1/4に縮小する\n",
    "image = cv2.resize(im2, (0, 0), fx=0.25, fy=0.25)\n",
    "\n",
    "cv2.imshow('Original Image', image)\n",
    "cv2.waitKey(0)\n",
    "cv2.destroyAllWindows()\n",
    "\n"
   ]
  },
  {
   "cell_type": "code",
   "execution_count": null,
   "metadata": {},
   "outputs": [],
   "source": []
  }
 ],
 "metadata": {
  "kernelspec": {
   "display_name": "Python 3",
   "language": "python",
   "name": "python3"
  },
  "language_info": {
   "codemirror_mode": {
    "name": "ipython",
    "version": 3
   },
   "file_extension": ".py",
   "mimetype": "text/x-python",
   "name": "python",
   "nbconvert_exporter": "python",
   "pygments_lexer": "ipython3",
   "version": "3.7.4"
  }
 },
 "nbformat": 4,
 "nbformat_minor": 2
}
