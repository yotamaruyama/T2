{
 "cells": [
  {
   "cell_type": "code",
   "execution_count": 7,
   "metadata": {},
   "outputs": [],
   "source": [
    "import cv2\n",
    "import numpy as np\n",
    "file_src = 'blob.png'"
   ]
  },
  {
   "cell_type": "code",
   "execution_count": null,
   "metadata": {},
   "outputs": [],
   "source": [
    "img_src = cv2.imread(file_src, 0) #入力画像の読み込み(カラー:1/グレースケール:0)\n",
    "img_dst = cv2.imread(file_src, 0)\n",
    "\n",
    "x,y,w,h = cv2.boundingRect(img_dst)\n",
    "aspectratio = float(h) / w\n",
    "print(aspectratio)\n",
    "\n",
    "cv2.rectangle(img_dst, (x,y),(x+w, y+h),128) #描画 \n",
    "\n",
    "cv2.imshow(\"src Show Input Image\", img_src)\n",
    "cv2.imshow(\"dst Show Output Image\", img_dst)\n",
    "\n",
    "\n",
    "cv2.waitKey(0)\n",
    "cv2.destroyAllWindows()"
   ]
  },
  {
   "cell_type": "code",
   "execution_count": null,
   "metadata": {},
   "outputs": [],
   "source": []
  }
 ],
 "metadata": {
  "kernelspec": {
   "display_name": "Python 3",
   "language": "python",
   "name": "python3"
  },
  "language_info": {
   "codemirror_mode": {
    "name": "ipython",
    "version": 3
   },
   "file_extension": ".py",
   "mimetype": "text/x-python",
   "name": "python",
   "nbconvert_exporter": "python",
   "pygments_lexer": "ipython3",
   "version": "3.7.4"
  }
 },
 "nbformat": 4,
 "nbformat_minor": 2
}
