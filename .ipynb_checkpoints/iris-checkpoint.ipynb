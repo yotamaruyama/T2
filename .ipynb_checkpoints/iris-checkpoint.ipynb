{
 "cells": [
  {
   "cell_type": "code",
   "execution_count": 8,
   "metadata": {},
   "outputs": [
    {
     "name": "stdout",
     "output_type": "stream",
     "text": [
      "     SepalLength  SepalWidth  PetalLength  PetalWidth\n",
      "146          6.3         2.5          5.0         1.9\n",
      "136          6.3         3.4          5.6         2.4\n",
      "124          6.7         3.3          5.7         2.1\n",
      "96           5.7         2.9          4.2         1.3\n",
      "102          7.1         3.0          5.9         2.1\n",
      "..           ...         ...          ...         ...\n",
      "143          6.8         3.2          5.9         2.3\n",
      "61           5.9         3.0          4.2         1.5\n",
      "53           5.5         2.3          4.0         1.3\n",
      "79           5.7         2.6          3.5         1.0\n",
      "12           4.8         3.0          1.4         0.1\n",
      "\n",
      "[120 rows x 4 columns] 146     Iris-virginica\n",
      "136     Iris-virginica\n",
      "124     Iris-virginica\n",
      "96     Iris-versicolor\n",
      "102     Iris-virginica\n",
      "            ...       \n",
      "143     Iris-virginica\n",
      "61     Iris-versicolor\n",
      "53     Iris-versicolor\n",
      "79     Iris-versicolor\n",
      "12         Iris-setosa\n",
      "Name: Name, Length: 120, dtype: object\n",
      "正解率゠ 0.9666666666666667\n"
     ]
    },
    {
     "name": "stderr",
     "output_type": "stream",
     "text": [
      "C:\\ProgramData\\Anaconda3\\lib\\site-packages\\sklearn\\svm\\base.py:193: FutureWarning: The default value of gamma will change from 'auto' to 'scale' in version 0.22 to account better for unscaled features. Set gamma explicitly to 'auto' or 'scale' to avoid this warning.\n",
      "  \"avoid this warning.\", FutureWarning)\n"
     ]
    }
   ],
   "source": [
    "\n",
    "import pandas as pd \n",
    "from sklearn. model_selection import train_test_split \n",
    "from sklearn.svm import SVC \n",
    "from sklearn.metrics import accuracy_score\n",
    "\n",
    "# アヤメデータの読み込み---(※ 1）\n",
    "\n",
    "iris_data = pd.read_csv(\"iris.csv\", encoding=\"utf-8\")\n",
    "\n",
    "# アヤメデータをラベルと入カデータに分離する---（※2)\n",
    "\n",
    "y = iris_data.loc[:,\"Name\"]\n",
    "\n",
    "x = iris_data.loc [:,[\"SepalLength\", \"SepalWidth\", \"PetalLength\", \"PetalWidth\"]]\n",
    "\n",
    "# 学習用とテスト用に分離する ---（※ 3)\n",
    "\n",
    "x_train, x_test, y_train, y_test = train_test_split(x, y, test_size = 0.2,\n",
    "\n",
    "train_size = 0.8, shuffle = True)\n",
    "\n",
    "# 学習する -- - (※ 4)\n",
    "\n",
    "clf = SVC()\n",
    "clf.fit(x_train, y_train)\n",
    "\n",
    "print(x_train,y_train)\n",
    "\n",
    "y_pred = clf.predict (x_test)\n",
    "\n",
    "print (\"正解率゠\" , accuracy_score(y_test, y_pred))"
   ]
  },
  {
   "cell_type": "code",
   "execution_count": null,
   "metadata": {},
   "outputs": [],
   "source": []
  }
 ],
 "metadata": {
  "kernelspec": {
   "display_name": "Python 3",
   "language": "python",
   "name": "python3"
  },
  "language_info": {
   "codemirror_mode": {
    "name": "ipython",
    "version": 3
   },
   "file_extension": ".py",
   "mimetype": "text/x-python",
   "name": "python",
   "nbconvert_exporter": "python",
   "pygments_lexer": "ipython3",
   "version": "3.7.4"
  }
 },
 "nbformat": 4,
 "nbformat_minor": 2
}
