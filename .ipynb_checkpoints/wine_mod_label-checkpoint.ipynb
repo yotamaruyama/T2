{
 "cells": [
  {
   "cell_type": "code",
   "execution_count": 8,
   "metadata": {},
   "outputs": [
    {
     "name": "stdout",
     "output_type": "stream",
     "text": [
      "              precision    recall  f1-score   support\n",
      "\n",
      "           0       0.62      0.28      0.38        36\n",
      "           1       0.94      0.99      0.97       901\n",
      "           2       0.93      0.33      0.48        43\n",
      "\n",
      "    accuracy                           0.94       980\n",
      "   macro avg       0.83      0.53      0.61       980\n",
      "weighted avg       0.93      0.94      0.92       980\n",
      "\n",
      "正解率= 0.936734693877551\n"
     ]
    },
    {
     "name": "stderr",
     "output_type": "stream",
     "text": [
      "C:\\ProgramData\\Anaconda3\\lib\\site-packages\\sklearn\\ensemble\\forest.py:245: FutureWarning: The default value of n_estimators will change from 10 in version 0.20 to 100 in 0.22.\n",
      "  \"10 in version 0.20 to 100 in 0.22.\", FutureWarning)\n"
     ]
    }
   ],
   "source": [
    "import pandas as pd \n",
    "from sklearn.model_selection import train_test_split \n",
    "from sklearn.ensemble import RandomForestClassifier \n",
    "from sklearn.metrics import accuracy_score \n",
    "from sklearn.metrics import classification_report\n",
    "\n",
    "# データを読み込む---(※ 1)\n",
    "\n",
    "wine = pd.read_csv(\"winequality-white.csv\", sep=\";\", encoding=\"utf-8\")\n",
    "\n",
    "# データをラベルとデータに分離\n",
    "\n",
    "y = wine[\"quality\"]\n",
    "\n",
    "x = wine.drop(\"quality\", axis=1)\n",
    "\n",
    "#yのラベルをつけ直す - - - (※ 2)\n",
    "\n",
    "newlist = []\n",
    "\n",
    "for v in list(y):\n",
    "    if v <= 4:\n",
    "        newlist +=[0]\n",
    "    elif v <= 7:\n",
    "        newlist += [1]\n",
    "    else:\n",
    "        newlist += [2]\n",
    "y = newlist\n",
    "\n",
    "# 学習用とテスト用に分割する ---( ※ 3)\n",
    "\n",
    "x_train, x_test, y_train, y_test = train_test_split(x, y, test_size=0.2)\n",
    "\n",
    "#学習する ---(※ 4)\n",
    "\n",
    "model = RandomForestClassifier()\n",
    "\n",
    "model.fit(x_train, y_train)\n",
    "\n",
    "# 評価する---(※ 5)\n",
    "\n",
    "y_pred = model.predict(x_test)\n",
    "print(classification_report (y_test, y_pred))\n",
    "print (\"正解率=\", accuracy_score (y_test, y_pred))\n",
    "\n"
   ]
  },
  {
   "cell_type": "code",
   "execution_count": null,
   "metadata": {},
   "outputs": [],
   "source": []
  }
 ],
 "metadata": {
  "kernelspec": {
   "display_name": "Python 3",
   "language": "python",
   "name": "python3"
  },
  "language_info": {
   "codemirror_mode": {
    "name": "ipython",
    "version": 3
   },
   "file_extension": ".py",
   "mimetype": "text/x-python",
   "name": "python",
   "nbconvert_exporter": "python",
   "pygments_lexer": "ipython3",
   "version": "3.7.4"
  }
 },
 "nbformat": 4,
 "nbformat_minor": 2
}
