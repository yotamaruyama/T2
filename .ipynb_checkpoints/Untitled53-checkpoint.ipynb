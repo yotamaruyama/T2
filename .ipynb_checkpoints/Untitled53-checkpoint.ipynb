{
 "cells": [
  {
   "cell_type": "code",
   "execution_count": 13,
   "metadata": {},
   "outputs": [
    {
     "name": "stdout",
     "output_type": "stream",
     "text": [
      "a 213\n"
     ]
    }
   ],
   "source": [
    "import cv2\n",
    "import numpy as np\n",
    "from pathlib import Path\n",
    "\n",
    "def count_black_regions(image):\n",
    "    # HSV色空間に変換\n",
    "    hsv = cv2.cvtColor(image, cv2.COLOR_BGR2HSV)\n",
    "\n",
    "    # 黒色の範囲を定義\n",
    "    lower_black = np.array([0, 0, 0])\n",
    "    upper_black = np.array([180, 255, 120])\n",
    "\n",
    "    # 黒色領域のマスクを作成\n",
    "    mask = cv2.inRange(hsv, lower_black, upper_black)\n",
    "\n",
    "    # 輪郭を検出\n",
    "    contours, _ = cv2.findContours(mask, cv2.RETR_EXTERNAL, cv2.CHAIN_APPROX_SIMPLE)\n",
    "\n",
    "    # 小さい領域の個数をカウント\n",
    "    count = 0  # 1mm未満の領域の個数\n",
    "    for contour in contours:\n",
    "        # 面積を計算\n",
    "        area = cv2.contourArea(contour)\n",
    "\n",
    "        # 面積が1mm未満の場合はカウントし、領域を囲む四角形を描画\n",
    "        if 0.8 <= area < 1000:\n",
    "            count += 1\n",
    "            x, y, w, h = cv2.boundingRect(contour)\n",
    "            cv2.rectangle(image, (x, y), (x + 10, y + 10), (0, 255, 0), 2)\n",
    "\n",
    "    return count\n",
    "\n",
    "# 画像の読み込み\n",
    "image = cv2.imread(\"wata.jpg\")\n",
    "\n",
    "# 画像を二分割\n",
    "rows = 1  # 行数\n",
    "cols = 2  # 列数\n",
    "chunks = []\n",
    "for row_img in np.array_split(image, rows, axis=0):\n",
    "    for chunk in np.array_split(row_img, cols, axis=1):\n",
    "        chunks.append(chunk)\n",
    "\n",
    "# 分割した画像ごとに個数をカウント\n",
    "output_dir = Path(\"output\")\n",
    "output_dir.mkdir(exist_ok=True)\n",
    "for i, chunk in enumerate(chunks):\n",
    "    # 個数をカウント\n",
    "    count = count_black_regions(chunk)\n",
    "\n",
    "    # 結果の表示と保存\n",
    "    cv2.putText(chunk, \"Count: \" + str(count), (10, 30), cv2.FONT_HERSHEY_SIMPLEX, 1, (0, 0, 255), 2)\n",
    "    save_path = output_dir / f\"chunk_{i:02d}.png\"\n",
    "    cv2.imwrite(str(save_path), chunk)\n",
    "\n",
    "    # 保存した画像を表示\n",
    "    cv2.imshow(f\"Chunk {i}\", chunk)\n",
    "    cv2.waitKey(0)\n",
    "print(\"a\",count)    \n",
    "cv2.destroyAllWindows()"
   ]
  },
  {
   "cell_type": "code",
   "execution_count": null,
   "metadata": {},
   "outputs": [],
   "source": []
  }
 ],
 "metadata": {
  "kernelspec": {
   "display_name": "Python 3",
   "language": "python",
   "name": "python3"
  },
  "language_info": {
   "codemirror_mode": {
    "name": "ipython",
    "version": 3
   },
   "file_extension": ".py",
   "mimetype": "text/x-python",
   "name": "python",
   "nbconvert_exporter": "python",
   "pygments_lexer": "ipython3",
   "version": "3.7.4"
  }
 },
 "nbformat": 4,
 "nbformat_minor": 2
}
