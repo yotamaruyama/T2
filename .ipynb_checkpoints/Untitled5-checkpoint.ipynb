{
 "cells": [
  {
   "cell_type": "code",
   "execution_count": 109,
   "metadata": {},
   "outputs": [],
   "source": [
    "import cv2\n",
    "#import math\n",
    "#import numpy as np\n",
    "file_src = 'src.png'\n",
    "file_dst = 'dst.png'"
   ]
  },
  {
   "cell_type": "code",
   "execution_count": null,
   "metadata": {},
   "outputs": [],
   "source": [
    "img_src = cv2.imread(file_src, 1) #入力画像の読み込み\n",
    "#img_src = cv2.imread(file_src, 0) #入力画像の読み込み(グレースケール)\n",
    "\n",
    "img_src = cv2.line(img_src, (0,0),(64,48),(0,255,255),5) #線\n",
    "img_src = cv2.circle(img_src, (100,100),30,(0,255,0),5) #円\n",
    "img_src = cv2.rectangle(img_src, (100,100),(500,500),(255,0,255),5) #四角\n",
    "\n",
    "font = cv2.FONT_HERSHEY_SIMPLEX\n",
    "img_src = cv2.putText(img_src, 'OpenCV',(10,500), font, 1,(255,255,255),2,cv2.LINE_AA)\n",
    "cv2.imshow(\"src Show Input Image\", img_src) #入力画像表示\n",
    "cv2.imshow(\"dst Show GRAY Image\", img_dst) #出力画像表示\n",
    "\n",
    "cv2.waitKey(0)\n",
    "cv2.destroyAllWindows()"
   ]
  },
  {
   "cell_type": "code",
   "execution_count": null,
   "metadata": {},
   "outputs": [],
   "source": []
  },
  {
   "cell_type": "code",
   "execution_count": null,
   "metadata": {},
   "outputs": [],
   "source": []
  }
 ],
 "metadata": {
  "kernelspec": {
   "display_name": "Python 3",
   "language": "python",
   "name": "python3"
  },
  "language_info": {
   "codemirror_mode": {
    "name": "ipython",
    "version": 3
   },
   "file_extension": ".py",
   "mimetype": "text/x-python",
   "name": "python",
   "nbconvert_exporter": "python",
   "pygments_lexer": "ipython3",
   "version": "3.7.4"
  }
 },
 "nbformat": 4,
 "nbformat_minor": 2
}
