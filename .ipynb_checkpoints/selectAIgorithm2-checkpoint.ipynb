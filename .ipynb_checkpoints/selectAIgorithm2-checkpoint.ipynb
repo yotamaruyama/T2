{
 "cells": [
  {
   "cell_type": "code",
   "execution_count": 4,
   "metadata": {},
   "outputs": [
    {
     "name": "stderr",
     "output_type": "stream",
     "text": [
      "C:\\ProgramData\\Anaconda3\\lib\\site-packages\\sklearn\\externals\\joblib\\__init__.py:15: DeprecationWarning: sklearn.externals.joblib is deprecated in 0.21 and will be removed in 0.23. Please import this functionality directly from joblib, which can be installed with: pip install joblib. If this warning is raised when loading pickled models, you may need to re-serialize those models with scikit-learn 0.21+.\n",
      "  warnings.warn(msg, category=DeprecationWarning)\n",
      "C:\\ProgramData\\Anaconda3\\lib\\site-packages\\sklearn\\utils\\linear_assignment_.py:21: DeprecationWarning: The linear_assignment_ module is deprecated in 0.21 and will be removed from 0.23. Use scipy.optimize.linear_sum_assignment instead.\n",
      "  DeprecationWarning)\n"
     ]
    },
    {
     "name": "stdout",
     "output_type": "stream",
     "text": [
      "AdaBoostClassifier の正解率 =  0.9333333333333333\n",
      "BaggingClassifier の正解率 =  0.9666666666666667\n",
      "BernoulliNB の正解率 =  0.3\n",
      "\u001b[33mWarning：\u001b[0m CalibratedClassifierCV : ('The default value of cv will change from 3 to 5 in version 0.22. Specify it explicitly to silence this warning.',)\n",
      "\u001b[31mError：\u001b[0m CheckingClassifier : (\"could not convert string to float: 'Iris-versicolor'\",)\n",
      "\u001b[31mError：\u001b[0m ClassifierChain : (\"__init__() missing 1 required positional argument: 'base_estimator'\",)\n",
      "ComplementNB の正解率 =  0.6\n",
      "DecisionTreeClassifier の正解率 =  0.9666666666666667\n",
      "DummyClassifier の正解率 =  0.4\n",
      "ExtraTreeClassifier の正解率 =  0.9666666666666667\n",
      "\u001b[33mWarning：\u001b[0m ExtraTreesClassifier : ('The default value of n_estimators will change from 10 in version 0.20 to 100 in 0.22.',)\n",
      "GaussianNB の正解率 =  0.9666666666666667\n",
      "GaussianProcessClassifier の正解率 =  1.0\n",
      "GradientBoostingClassifier の正解率 =  0.9666666666666667\n",
      "HistGradientBoostingClassifier の正解率 =  0.9333333333333333\n",
      "KNeighborsClassifier の正解率 =  1.0\n",
      "LabelPropagation の正解率 =  0.9666666666666667\n",
      "LabelSpreading の正解率 =  0.9666666666666667\n",
      "LinearDiscriminantAnalysis の正解率 =  0.9666666666666667\n",
      "\u001b[33mWarning：\u001b[0m LinearSVC : ('Liblinear failed to converge, increase the number of iterations.',)\n",
      "\u001b[33mWarning：\u001b[0m LogisticRegression : (\"Default solver will be changed to 'lbfgs' in 0.22. Specify a solver to silence this warning.\",)\n",
      "\u001b[33mWarning：\u001b[0m LogisticRegressionCV : (\"Default multi_class will be changed to 'auto' in 0.22. Specify the multi_class option to silence this warning.\",)\n",
      "\u001b[33mWarning：\u001b[0m MLPClassifier : (\"Stochastic Optimizer: Maximum iterations (200) reached and the optimization hasn't converged yet.\",)\n",
      "\u001b[31mError：\u001b[0m MultiOutputClassifier : (\"__init__() missing 1 required positional argument: 'estimator'\",)\n",
      "MultinomialNB の正解率 =  0.9666666666666667\n",
      "NearestCentroid の正解率 =  0.9333333333333333\n",
      "\u001b[33mWarning：\u001b[0m NuSVC : (\"The default value of gamma will change from 'auto' to 'scale' in version 0.22 to account better for unscaled features. Set gamma explicitly to 'auto' or 'scale' to avoid this warning.\",)\n",
      "\u001b[31mError：\u001b[0m OneVsOneClassifier : (\"__init__() missing 1 required positional argument: 'estimator'\",)\n",
      "\u001b[31mError：\u001b[0m OneVsRestClassifier : (\"__init__() missing 1 required positional argument: 'estimator'\",)\n",
      "\u001b[31mError：\u001b[0m OutputCodeClassifier : (\"__init__() missing 1 required positional argument: 'estimator'\",)\n",
      "PassiveAggressiveClassifier の正解率 =  0.9333333333333333\n",
      "Perceptron の正解率 =  0.6\n",
      "QuadraticDiscriminantAnalysis の正解率 =  0.9666666666666667\n",
      "RadiusNeighborsClassifier の正解率 =  0.9666666666666667\n",
      "\u001b[33mWarning：\u001b[0m RandomForestClassifier : ('The default value of n_estimators will change from 10 in version 0.20 to 100 in 0.22.',)\n",
      "RidgeClassifier の正解率 =  0.8666666666666667\n",
      "RidgeClassifierCV の正解率 =  0.8666666666666667\n",
      "SGDClassifier の正解率 =  0.9\n",
      "\u001b[33mWarning：\u001b[0m SVC : (\"The default value of gamma will change from 'auto' to 'scale' in version 0.22 to account better for unscaled features. Set gamma explicitly to 'auto' or 'scale' to avoid this warning.\",)\n",
      "\u001b[31mError：\u001b[0m VotingClassifier : (\"__init__() missing 1 required positional argument: 'estimators'\",)\n"
     ]
    }
   ],
   "source": [
    "import pandas as pd\n",
    "from sklearn.model_selection import train_test_split\n",
    "from sklearn.metrics import accuracy_score\n",
    "from sklearn.utils.testing import all_estimators\n",
    "import warnings\n",
    "\n",
    "# アヤメデータの読み込み\n",
    "iris_data = pd.read_csv(\"iris.csv\", encoding=\"utf-8\")\n",
    "\n",
    "# アヤメデータをラベルと入力データに分離する \n",
    "y = iris_data.loc[:,\"Name\"]\n",
    "x = iris_data.loc[:,[\"SepalLength\",\"SepalWidth\",\"PetalLength\",\"PetalWidth\"]]\n",
    "\n",
    "# 学習用とテスト用に分離する \n",
    "x_train, x_test, y_train, y_test = train_test_split(x, y, test_size = 0.2, train_size = 0.8, shuffle = True)\n",
    "\n",
    "# classifierのアルゴリズム全てを取得する --- (※1)\n",
    "allAlgorithms = all_estimators(type_filter=\"classifier\")\n",
    "warnings.simplefilter(\"error\")\n",
    "\n",
    "for(name, algorithm) in allAlgorithms :\n",
    "  try :\n",
    "    # 各アリゴリズムのオブジェクトを作成 --- (※2)\n",
    "    clf = algorithm()\n",
    "\n",
    "    # 学習して、評価する --- (※3)\n",
    "    clf.fit(x_train, y_train)\n",
    "    y_pred = clf.predict(x_test)\n",
    "    print(name,\"の正解率 = \" , accuracy_score(y_test, y_pred))\n",
    "  \n",
    "  # WarningやExceptionの内容を表示する --- (※4)\n",
    "  except Warning as w :\n",
    "    print(\"\\033[33m\"+\"Warning：\"+\"\\033[0m\", name, \":\", w.args)\n",
    "  except Exception as e :\n",
    "    print(\"\\033[31m\"+\"Error：\"+\"\\033[0m\", name, \":\", e.args)"
   ]
  },
  {
   "cell_type": "code",
   "execution_count": null,
   "metadata": {},
   "outputs": [],
   "source": []
  }
 ],
 "metadata": {
  "kernelspec": {
   "display_name": "Python 3",
   "language": "python",
   "name": "python3"
  },
  "language_info": {
   "codemirror_mode": {
    "name": "ipython",
    "version": 3
   },
   "file_extension": ".py",
   "mimetype": "text/x-python",
   "name": "python",
   "nbconvert_exporter": "python",
   "pygments_lexer": "ipython3",
   "version": "3.7.4"
  }
 },
 "nbformat": 4,
 "nbformat_minor": 2
}
