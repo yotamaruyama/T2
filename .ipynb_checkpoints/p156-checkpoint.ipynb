{
 "cells": [
  {
   "cell_type": "code",
   "execution_count": 13,
   "metadata": {},
   "outputs": [],
   "source": [
    "import cv2\n",
    "import numpy as np\n",
    "file_src = 'labeling_sample.png'\n",
    "thresh = 100"
   ]
  },
  {
   "cell_type": "code",
   "execution_count": null,
   "metadata": {},
   "outputs": [],
   "source": [
    "img_src = cv2.imread(file_src, 0) #入力画像の読み込み(カラー:1/グレースケール:0)\n",
    "\n",
    "ret,img_dst = cv2.threshold(img_src, thresh, 255, cv2.THRESH_BINARY)#2値化処理\n",
    "\n",
    "cv2.imshow(\"dst Show threshold Image\", img_dst)\n",
    "\n",
    "nlabel,img_lab = cv2.connectedComponents(img_dst)\n",
    "img_dst2 = cv2.compare(img_lab,1,cv2.CMP_EQ)\n",
    "cv2.imshow(\" Show threshold Image\", img_dst2)\n",
    "\n",
    "\n",
    "cv2.waitKey(0)\n",
    "cv2.destroyAllWindows()"
   ]
  },
  {
   "cell_type": "code",
   "execution_count": null,
   "metadata": {},
   "outputs": [],
   "source": []
  }
 ],
 "metadata": {
  "kernelspec": {
   "display_name": "Python 3",
   "language": "python",
   "name": "python3"
  },
  "language_info": {
   "codemirror_mode": {
    "name": "ipython",
    "version": 3
   },
   "file_extension": ".py",
   "mimetype": "text/x-python",
   "name": "python",
   "nbconvert_exporter": "python",
   "pygments_lexer": "ipython3",
   "version": "3.7.4"
  }
 },
 "nbformat": 4,
 "nbformat_minor": 2
}
