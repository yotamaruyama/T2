{
 "cells": [
  {
   "cell_type": "code",
   "execution_count": 58,
   "metadata": {},
   "outputs": [],
   "source": [
    "import cv2\n",
    "import numpy as np\n",
    "file_src = 'a.webp'"
   ]
  },
  {
   "cell_type": "code",
   "execution_count": 59,
   "metadata": {},
   "outputs": [],
   "source": [
    "img_src = cv2.imread(file_src, 0) #入力画像の読み込み\n",
    "\n",
    "img_dst = cv2.equalizeHist(img_src)\n",
    "img_hst = np.zeros([100,256]).astype('uint8')\n",
    "rows, cols = img_hst.shape[:2]\n",
    "\n",
    "hdims = [256]\n",
    "hranges = [0, 256]\n",
    "hist = cv2.calcHist([img_src], [0], None, hdims, hranges)\n",
    "\n",
    "min_val,max_val,min_loc,max_loc = cv2.minMaxLoc(hist)\n",
    "\n",
    "for i in range(0, 255):\n",
    "    v = hist[i]\n",
    "    cv2.line(img_hst, (i, rows),(i, rows - rows * (v / max_val)), (255, 255, 255))\n",
    "    \n",
    "cv2.imshow(\"src Show IutputImage\", img_src)\n",
    "cv2.imshow(\"hist Show IutputImage\", img_hst)\n",
    "cv2.imshow(\"dst Show IutputImage\", img_dst)\n",
    "cv2.waitKey(0)\n",
    "cv2.destroyAllWindows()"
   ]
  },
  {
   "cell_type": "code",
   "execution_count": null,
   "metadata": {},
   "outputs": [],
   "source": []
  }
 ],
 "metadata": {
  "kernelspec": {
   "display_name": "Python 3",
   "language": "python",
   "name": "python3"
  },
  "language_info": {
   "codemirror_mode": {
    "name": "ipython",
    "version": 3
   },
   "file_extension": ".py",
   "mimetype": "text/x-python",
   "name": "python",
   "nbconvert_exporter": "python",
   "pygments_lexer": "ipython3",
   "version": "3.7.4"
  }
 },
 "nbformat": 4,
 "nbformat_minor": 2
}
