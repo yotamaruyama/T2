{
 "cells": [
  {
   "cell_type": "code",
   "execution_count": 6,
   "metadata": {},
   "outputs": [
    {
     "name": "stdout",
     "output_type": "stream",
     "text": [
      "              precision    recall  f1-score   support\n",
      "\n",
      "           3       0.00      0.00      0.00         3\n",
      "           4       0.55      0.21      0.30        29\n",
      "           5       0.68      0.73      0.70       304\n",
      "           6       0.66      0.74      0.70       441\n",
      "           7       0.67      0.53      0.60       167\n",
      "           8       0.79      0.31      0.45        35\n",
      "           9       0.00      0.00      0.00         1\n",
      "\n",
      "    accuracy                           0.67       980\n",
      "   macro avg       0.48      0.36      0.39       980\n",
      "weighted avg       0.67      0.67      0.66       980\n",
      "\n",
      "正解率= 0.6683673469387755\n"
     ]
    },
    {
     "name": "stderr",
     "output_type": "stream",
     "text": [
      "C:\\ProgramData\\Anaconda3\\lib\\site-packages\\sklearn\\ensemble\\forest.py:245: FutureWarning: The default value of n_estimators will change from 10 in version 0.20 to 100 in 0.22.\n",
      "  \"10 in version 0.20 to 100 in 0.22.\", FutureWarning)\n",
      "C:\\ProgramData\\Anaconda3\\lib\\site-packages\\sklearn\\metrics\\classification.py:1437: UndefinedMetricWarning: Precision and F-score are ill-defined and being set to 0.0 in labels with no predicted samples.\n",
      "  'precision', 'predicted', average, warn_for)\n"
     ]
    }
   ],
   "source": [
    "import pandas as pd \n",
    "from sklearn.model_selection import train_test_split \n",
    "from sklearn.ensemble import RandomForestClassifier \n",
    "from sklearn.metrics import accuracy_score \n",
    "from sklearn.metrics import classification_report\n",
    "\n",
    "# データを読み込む\n",
    "\n",
    "wine = pd.read_csv (\"winequality-white.csv\", sep=\";\", encoding=\"utf-8\")\n",
    "\n",
    "# データをラベルとデータに分離 ---( ※ 1)\n",
    "\n",
    "y = wine[\"quality\"]\n",
    "\n",
    "x = wine.drop(\"quality\", axis=1)\n",
    "\n",
    "# 学習用とテスト用に分割する ---( ※ 2)\n",
    "\n",
    "x_train, x_test, y_train, y_test = train_test_split(\n",
    "\n",
    "x,y,test_size=0.2)\n",
    "\n",
    "# 学習する - - - ( ※ 3)\n",
    "\n",
    "model = RandomForestClassifier()\n",
    "\n",
    "model.fit(x_train, y_train)\n",
    "\n",
    "# 評価する - - - ( ※ 4)\n",
    "\n",
    "y_pred = model.predict(x_test)\n",
    "print(classification_report(y_test, y_pred))\n",
    "print(\"正解率=\", accuracy_score(y_test,y_pred))"
   ]
  },
  {
   "cell_type": "code",
   "execution_count": null,
   "metadata": {},
   "outputs": [],
   "source": []
  }
 ],
 "metadata": {
  "kernelspec": {
   "display_name": "Python 3",
   "language": "python",
   "name": "python3"
  },
  "language_info": {
   "codemirror_mode": {
    "name": "ipython",
    "version": 3
   },
   "file_extension": ".py",
   "mimetype": "text/x-python",
   "name": "python",
   "nbconvert_exporter": "python",
   "pygments_lexer": "ipython3",
   "version": "3.7.4"
  }
 },
 "nbformat": 4,
 "nbformat_minor": 2
}
