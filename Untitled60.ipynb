{
 "cells": [
  {
   "cell_type": "code",
   "execution_count": 7,
   "metadata": {},
   "outputs": [],
   "source": [
    "import cv2\n",
    "import numpy as np\n",
    "\n",
    "def remove_colors(image):\n",
    "    # 画像をBGR形式で読み込む\n",
    "    bgr_image = cv2.imread(image)\n",
    "    cv2.imshow(\"bgr_image\", bgr_image)\n",
    "    # BGR形式をHSV形式に変換\n",
    "    hsv_image = cv2.cvtColor(bgr_image, cv2.COLOR_BGR2HSV)\n",
    "\n",
    "    # 白色の範囲を定義\n",
    "    lower_white = np.array([0, 0, 200], dtype=np.uint8)\n",
    "    upper_white = np.array([180, 100, 255], dtype=np.uint8)\n",
    "\n",
    "    # 緑色の範囲を定義\n",
    "    lower_green = np.array([40, 0, 0], dtype=np.uint8)\n",
    "    upper_green = np.array([80, 255, 255], dtype=np.uint8)\n",
    "\n",
    "    # 白色と緑色の範囲に該当する部分を除去\n",
    "    mask = cv2.inRange(hsv_image, lower_white, upper_white) + cv2.inRange(hsv_image, lower_green, upper_green)\n",
    "    result = cv2.bitwise_and(bgr_image, bgr_image, mask=~mask)\n",
    "\n",
    "    return result\n",
    "\n",
    "# 画像ファイルを指定して除去処理を実行\n",
    "result_image = remove_colors(\"konnbea4.jpeg\")\n",
    "\n",
    "# 除去された画像を表示\n",
    "cv2.imshow(\"Result\", result_image)\n",
    "cv2.waitKey(0)\n",
    "cv2.destroyAllWindows()\n",
    "\n"
   ]
  },
  {
   "cell_type": "code",
   "execution_count": null,
   "metadata": {},
   "outputs": [],
   "source": []
  },
  {
   "cell_type": "code",
   "execution_count": null,
   "metadata": {},
   "outputs": [],
   "source": []
  }
 ],
 "metadata": {
  "kernelspec": {
   "display_name": "Python 3",
   "language": "python",
   "name": "python3"
  },
  "language_info": {
   "codemirror_mode": {
    "name": "ipython",
    "version": 3
   },
   "file_extension": ".py",
   "mimetype": "text/x-python",
   "name": "python",
   "nbconvert_exporter": "python",
   "pygments_lexer": "ipython3",
   "version": "3.7.4"
  }
 },
 "nbformat": 4,
 "nbformat_minor": 2
}
