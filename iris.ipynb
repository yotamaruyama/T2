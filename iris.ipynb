{
 "cells": [
  {
   "cell_type": "code",
   "execution_count": 4,
   "metadata": {},
   "outputs": [
    {
     "name": "stdout",
     "output_type": "stream",
     "text": [
      "     SepalLength  SepalWidth  PetalLength  PetalWidth\n",
      "29           4.7         3.2          1.6         0.2\n",
      "52           6.9         3.1          4.9         1.5\n",
      "0            5.1         3.5          1.4         0.2\n",
      "20           5.4         3.4          1.7         0.2\n",
      "109          7.2         3.6          6.1         2.5\n",
      "71           6.1         2.8          4.0         1.3\n",
      "6            4.6         3.4          1.4         0.3\n",
      "18           5.7         3.8          1.7         0.3\n",
      "85           6.0         3.4          4.5         1.6\n",
      "133          6.3         2.8          5.1         1.5\n",
      "34           4.9         3.1          1.5         0.1\n",
      "19           5.1         3.8          1.5         0.3\n",
      "5            5.4         3.9          1.7         0.4\n",
      "146          6.3         2.5          5.0         1.9\n",
      "88           5.6         3.0          4.1         1.3\n",
      "107          7.3         2.9          6.3         1.8\n",
      "130          7.4         2.8          6.1         1.9\n",
      "148          6.2         3.4          5.4         2.3\n",
      "125          7.2         3.2          6.0         1.8\n",
      "120          6.9         3.2          5.7         2.3\n",
      "116          6.5         3.0          5.5         1.8\n",
      "50           7.0         3.2          4.7         1.4\n",
      "142          5.8         2.7          5.1         1.9\n",
      "16           5.4         3.9          1.3         0.4\n",
      "48           5.3         3.7          1.5         0.2\n",
      "21           5.1         3.7          1.5         0.4\n",
      "83           6.0         2.7          5.1         1.6\n",
      "23           5.1         3.3          1.7         0.5\n",
      "26           5.0         3.4          1.6         0.4\n",
      "10           5.4         3.7          1.5         0.2 29         Iris-setosa\n",
      "52     Iris-versicolor\n",
      "0          Iris-setosa\n",
      "20         Iris-setosa\n",
      "109     Iris-virginica\n",
      "71     Iris-versicolor\n",
      "6          Iris-setosa\n",
      "18         Iris-setosa\n",
      "85     Iris-versicolor\n",
      "133     Iris-virginica\n",
      "34         Iris-setosa\n",
      "19         Iris-setosa\n",
      "5          Iris-setosa\n",
      "146     Iris-virginica\n",
      "88     Iris-versicolor\n",
      "107     Iris-virginica\n",
      "130     Iris-virginica\n",
      "148     Iris-virginica\n",
      "125     Iris-virginica\n",
      "120     Iris-virginica\n",
      "116     Iris-virginica\n",
      "50     Iris-versicolor\n",
      "142     Iris-virginica\n",
      "16         Iris-setosa\n",
      "48         Iris-setosa\n",
      "21         Iris-setosa\n",
      "83     Iris-versicolor\n",
      "23         Iris-setosa\n",
      "26         Iris-setosa\n",
      "10         Iris-setosa\n",
      "Name: Name, dtype: object\n",
      "正解率゠ 0.9666666666666667\n"
     ]
    },
    {
     "name": "stderr",
     "output_type": "stream",
     "text": [
      "C:\\ProgramData\\Anaconda3\\lib\\site-packages\\sklearn\\svm\\base.py:193: FutureWarning: The default value of gamma will change from 'auto' to 'scale' in version 0.22 to account better for unscaled features. Set gamma explicitly to 'auto' or 'scale' to avoid this warning.\n",
      "  \"avoid this warning.\", FutureWarning)\n"
     ]
    }
   ],
   "source": [
    "\n",
    "import pandas as pd \n",
    "from sklearn. model_selection import train_test_split \n",
    "from sklearn.svm import SVC \n",
    "from sklearn.metrics import accuracy_score\n",
    "\n",
    "# アヤメデータの読み込み---(※ 1）\n",
    "\n",
    "iris_data = pd.read_csv(\"iris.csv\", encoding=\"utf-8\")\n",
    "\n",
    "# アヤメデータをラベルと入カデータに分離する---（※2)\n",
    "\n",
    "y = iris_data.loc[:,\"Name\"]\n",
    "\n",
    "x = iris_data.loc [:,[\"SepalLength\", \"SepalWidth\", \"PetalLength\", \"PetalWidth\"]]\n",
    "\n",
    "# 学習用とテスト用に分離する ---（※ 3)\n",
    "\n",
    "x_train, x_test, y_train, y_test = train_test_split(x, y, test_size = 0.8,\n",
    "\n",
    "train_size = 0.2, shuffle = True)\n",
    "\n",
    "# 学習する -- - (※ 4)\n",
    "\n",
    "clf = SVC()\n",
    "clf.fit(x_train, y_train)\n",
    "\n",
    "print(x_train,y_train)\n",
    "\n",
    "y_pred = clf.predict (x_test)\n",
    "\n",
    "print (\"正解率゠\" , accuracy_score(y_test, y_pred))"
   ]
  },
  {
   "cell_type": "code",
   "execution_count": null,
   "metadata": {},
   "outputs": [],
   "source": []
  }
 ],
 "metadata": {
  "kernelspec": {
   "display_name": "Python 3",
   "language": "python",
   "name": "python3"
  },
  "language_info": {
   "codemirror_mode": {
    "name": "ipython",
    "version": 3
   },
   "file_extension": ".py",
   "mimetype": "text/x-python",
   "name": "python",
   "nbconvert_exporter": "python",
   "pygments_lexer": "ipython3",
   "version": "3.7.4"
  }
 },
 "nbformat": 4,
 "nbformat_minor": 2
}
