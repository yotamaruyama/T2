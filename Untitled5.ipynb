{
 "cells": [
  {
   "cell_type": "code",
   "execution_count": 90,
   "metadata": {},
   "outputs": [],
   "source": [
    "import cv2\n",
    "import math\n",
    "import numpy as np\n",
    "#import math\n",
    "#import numpy as np\n",
    "file_src = 'src.png'"
   ]
  },
  {
   "cell_type": "code",
   "execution_count": 92,
   "metadata": {},
   "outputs": [],
   "source": [
    "img = cv2.imread(file_src, 1) #入力画像の読み込み\n",
    "\n",
    "dst = cv2.cvtColor(img,cv2.COLOR_BGR2HSV)\n",
    "\n",
    "for i in range(dst.shape[0]):\n",
    "    for j in range(dst.shape[1]):\n",
    "       dst[i,j,2] = int(dst[i,j,2] * 0.5)\n",
    "    \n",
    "dst = cv2.cvtColor(dst,cv2.COLOR_HSV2BGR)\n",
    "\n",
    "cv2.imshow('org', img) #入力画像表示\n",
    "cv2.imshow('res', dst) #出力画像表示\n",
    "cv2.imwrite('HSV_result.jpg',dst)\n",
    "cv2.waitKey(0)\n",
    "cv2.destroyAllWindows()"
   ]
  }
 ],
 "metadata": {
  "kernelspec": {
   "display_name": "Python 3",
   "language": "python",
   "name": "python3"
  },
  "language_info": {
   "codemirror_mode": {
    "name": "ipython",
    "version": 3
   },
   "file_extension": ".py",
   "mimetype": "text/x-python",
   "name": "python",
   "nbconvert_exporter": "python",
   "pygments_lexer": "ipython3",
   "version": "3.7.4"
  }
 },
 "nbformat": 4,
 "nbformat_minor": 2
}
