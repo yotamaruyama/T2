{
 "cells": [
  {
   "cell_type": "code",
   "execution_count": null,
   "metadata": {},
   "outputs": [],
   "source": [
    "import cv2\n",
    "#import math\n",
    "#import numpy as np\n",
    "file_src = 'src.png'\n",
    "file_dst = 'dst.png'"
   ]
  },
  {
   "cell_type": "code",
   "execution_count": null,
   "metadata": {},
   "outputs": [],
   "source": [
    "img_src = cv2.imread(file_src, 1) #入力画像の読み込み\n",
    "\n",
    "img_dst = cv2.flip(img_src, flipCode = 0) #0:垂直反転　1:水平反転\n",
    "\n",
    "cv2.imshow(\"src Show Input Image\", img_src) #入力画像表示\n",
    "cv2.imshow(\"dst Show GRAY Image\", img_dst) #出力画像表示\n",
    "\n",
    "cv2.waitKey(0)\n",
    "cv2.destroyAllWindows()"
   ]
  }
 ],
 "metadata": {
  "kernelspec": {
   "display_name": "Python 3",
   "language": "python",
   "name": "python3"
  },
  "language_info": {
   "codemirror_mode": {
    "name": "ipython",
    "version": 3
   },
   "file_extension": ".py",
   "mimetype": "text/x-python",
   "name": "python",
   "nbconvert_exporter": "python",
   "pygments_lexer": "ipython3",
   "version": "3.7.4"
  }
 },
 "nbformat": 4,
 "nbformat_minor": 2
}
